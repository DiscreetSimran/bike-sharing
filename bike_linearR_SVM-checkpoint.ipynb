import pandas as pd
import numpy as np
from sklearn import preprocessing , model_selection , svm
from sklearn.linear_model import LinearRegression

df=pd.read_csv('day.csv')
print(df.head())
df=df[['season','yr','mnth','holiday','weekday','workingday','weathersit','temp','atemp','hum','windspeed','cnt']]
print(df.head())
df.fillna(-9999,inplace=True)
df.dropna(inplace=True)
X=np.array(df.drop(['cnt'],1))
y=np.array(df['cnt'])
print(X)
print(y)
X=preprocessing.scale(X)
X_train,X_test,y_train,y_test=model_selection.train_test_split(X,y,test_size=0.2)
clf=LinearRegression()
clf.fit(X_train,y_train)
accuracy=clf.score(X_test,y_test)
print(accuracy)
clf=svm.SVR()
clf.fit(X_train,y_train)
accuracy=clf.score(X_test,y_test)
print(accuracy)
clf=svm.SVR('poly')
clf.fit(X_train,y_train)
accuracy=clf.score(X_test,y_test)
print(accuracy)